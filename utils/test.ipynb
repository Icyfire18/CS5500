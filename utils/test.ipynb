{
 "cells": [
  {
   "cell_type": "code",
   "execution_count": 3,
   "metadata": {},
   "outputs": [],
   "source": [
    "import sqlite3\n",
    "import pandas as pd\n",
    "\n",
    "# Connect to the SQLite database\n",
    "conn = sqlite3.connect('../db.sqlite3')  # Replace 'your_database_name.db' with the actual name of your SQLite database\n",
    "\n",
    "# Query to select data from a table (replace 'your_table_name' with the actual table name)\n",
    "query = \"SELECT     name FROM     sqlite_schema WHERE     type ='table' AND     name NOT LIKE 'sqlite_%';\"\n",
    "#query = \"select distinct property_name  from pma_usage;\"\n",
    "query = \"Drop Table pma_weather;\"\n",
    "#query = \"Select * from pma_weather limit 5;\"\n",
    "\n",
    "# Read data into a DataFrame using pandas\n",
    "df = pd.read_sql_query(query, conn)\n",
    "\n",
    "# Close the database connection\n",
    "conn.close()\n"
   ]
  },
  {
   "cell_type": "code",
   "execution_count": 4,
   "metadata": {},
   "outputs": [
    {
     "name": "stdout",
     "output_type": "stream",
     "text": [
      "Data:\n",
      "                  date  temperature                        location  \\\n",
      "0  2000-01-01 00:00:00         21.5  Portland International Jetport   \n",
      "1  2000-02-01 00:00:00         26.4  Portland International Jetport   \n",
      "2  2000-03-01 00:00:00         37.7  Portland International Jetport   \n",
      "3  2000-04-01 00:00:00         43.3  Portland International Jetport   \n",
      "4  2000-05-01 00:00:00         53.2  Portland International Jetport   \n",
      "\n",
      "   elevation  latitude  longitude  \n",
      "0      72.18     43.64       70.3  \n",
      "1      72.18     43.64       70.3  \n",
      "2      72.18     43.64       70.3  \n",
      "3      72.18     43.64       70.3  \n",
      "4      72.18     43.64       70.3  \n"
     ]
    }
   ],
   "source": [
    "print(\"Data:\")\n",
    "print(df)"
   ]
  }
 ],
 "metadata": {
  "kernelspec": {
   "display_name": "Python 3",
   "language": "python",
   "name": "python3"
  },
  "language_info": {
   "codemirror_mode": {
    "name": "ipython",
    "version": 3
   },
   "file_extension": ".py",
   "mimetype": "text/x-python",
   "name": "python",
   "nbconvert_exporter": "python",
   "pygments_lexer": "ipython3",
   "version": "3.11.6"
  }
 },
 "nbformat": 4,
 "nbformat_minor": 2
}
