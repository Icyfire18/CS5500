{
 "cells": [
  {
   "cell_type": "code",
   "execution_count": 17,
   "metadata": {},
   "outputs": [
    {
     "ename": "DatabaseError",
     "evalue": "Execution failed on sql 'drop pma_museum;': near \"pma_museum\": syntax error",
     "output_type": "error",
     "traceback": [
      "\u001b[1;31m---------------------------------------------------------------------------\u001b[0m",
      "\u001b[1;31mOperationalError\u001b[0m                          Traceback (most recent call last)",
      "File \u001b[1;32m~\\AppData\\Local\\Packages\\PythonSoftwareFoundation.Python.3.11_qbz5n2kfra8p0\\LocalCache\\local-packages\\Python311\\site-packages\\pandas\\io\\sql.py:2262\u001b[0m, in \u001b[0;36mSQLiteDatabase.execute\u001b[1;34m(self, sql, params)\u001b[0m\n\u001b[0;32m   2261\u001b[0m \u001b[39mtry\u001b[39;00m:\n\u001b[1;32m-> 2262\u001b[0m     cur\u001b[39m.\u001b[39;49mexecute(sql, \u001b[39m*\u001b[39;49margs)\n\u001b[0;32m   2263\u001b[0m     \u001b[39mreturn\u001b[39;00m cur\n",
      "\u001b[1;31mOperationalError\u001b[0m: near \"pma_museum\": syntax error",
      "\nThe above exception was the direct cause of the following exception:\n",
      "\u001b[1;31mDatabaseError\u001b[0m                             Traceback (most recent call last)",
      "\u001b[1;32mc:\\Users\\12077\\Desktop\\temp\\djnago-temp\\mysite\\test.ipynb Cell 1\u001b[0m line \u001b[0;36m1\n\u001b[0;32m      <a href='vscode-notebook-cell:/c%3A/Users/12077/Desktop/temp/djnago-temp/mysite/test.ipynb#W0sZmlsZQ%3D%3D?line=8'>9</a>\u001b[0m query \u001b[39m=\u001b[39m \u001b[39m\"\u001b[39m\u001b[39mdrop pma_museum;\u001b[39m\u001b[39m\"\u001b[39m\n\u001b[0;32m     <a href='vscode-notebook-cell:/c%3A/Users/12077/Desktop/temp/djnago-temp/mysite/test.ipynb#W0sZmlsZQ%3D%3D?line=9'>10</a>\u001b[0m \u001b[39m#query = \"Drop Table pma_usage;\"\u001b[39;00m\n\u001b[0;32m     <a href='vscode-notebook-cell:/c%3A/Users/12077/Desktop/temp/djnago-temp/mysite/test.ipynb#W0sZmlsZQ%3D%3D?line=10'>11</a>\u001b[0m \n\u001b[0;32m     <a href='vscode-notebook-cell:/c%3A/Users/12077/Desktop/temp/djnago-temp/mysite/test.ipynb#W0sZmlsZQ%3D%3D?line=11'>12</a>\u001b[0m \u001b[39m# Read data into a DataFrame using pandas\u001b[39;00m\n\u001b[1;32m---> <a href='vscode-notebook-cell:/c%3A/Users/12077/Desktop/temp/djnago-temp/mysite/test.ipynb#W0sZmlsZQ%3D%3D?line=12'>13</a>\u001b[0m df \u001b[39m=\u001b[39m pd\u001b[39m.\u001b[39;49mread_sql_query(query, conn)\n\u001b[0;32m     <a href='vscode-notebook-cell:/c%3A/Users/12077/Desktop/temp/djnago-temp/mysite/test.ipynb#W0sZmlsZQ%3D%3D?line=14'>15</a>\u001b[0m \u001b[39m# Close the database connection\u001b[39;00m\n\u001b[0;32m     <a href='vscode-notebook-cell:/c%3A/Users/12077/Desktop/temp/djnago-temp/mysite/test.ipynb#W0sZmlsZQ%3D%3D?line=15'>16</a>\u001b[0m conn\u001b[39m.\u001b[39mclose()\n",
      "File \u001b[1;32m~\\AppData\\Local\\Packages\\PythonSoftwareFoundation.Python.3.11_qbz5n2kfra8p0\\LocalCache\\local-packages\\Python311\\site-packages\\pandas\\io\\sql.py:486\u001b[0m, in \u001b[0;36mread_sql_query\u001b[1;34m(sql, con, index_col, coerce_float, params, parse_dates, chunksize, dtype, dtype_backend)\u001b[0m\n\u001b[0;32m    483\u001b[0m \u001b[39massert\u001b[39;00m dtype_backend \u001b[39mis\u001b[39;00m \u001b[39mnot\u001b[39;00m lib\u001b[39m.\u001b[39mno_default\n\u001b[0;32m    485\u001b[0m \u001b[39mwith\u001b[39;00m pandasSQL_builder(con) \u001b[39mas\u001b[39;00m pandas_sql:\n\u001b[1;32m--> 486\u001b[0m     \u001b[39mreturn\u001b[39;00m pandas_sql\u001b[39m.\u001b[39;49mread_query(\n\u001b[0;32m    487\u001b[0m         sql,\n\u001b[0;32m    488\u001b[0m         index_col\u001b[39m=\u001b[39;49mindex_col,\n\u001b[0;32m    489\u001b[0m         params\u001b[39m=\u001b[39;49mparams,\n\u001b[0;32m    490\u001b[0m         coerce_float\u001b[39m=\u001b[39;49mcoerce_float,\n\u001b[0;32m    491\u001b[0m         parse_dates\u001b[39m=\u001b[39;49mparse_dates,\n\u001b[0;32m    492\u001b[0m         chunksize\u001b[39m=\u001b[39;49mchunksize,\n\u001b[0;32m    493\u001b[0m         dtype\u001b[39m=\u001b[39;49mdtype,\n\u001b[0;32m    494\u001b[0m         dtype_backend\u001b[39m=\u001b[39;49mdtype_backend,\n\u001b[0;32m    495\u001b[0m     )\n",
      "File \u001b[1;32m~\\AppData\\Local\\Packages\\PythonSoftwareFoundation.Python.3.11_qbz5n2kfra8p0\\LocalCache\\local-packages\\Python311\\site-packages\\pandas\\io\\sql.py:2326\u001b[0m, in \u001b[0;36mSQLiteDatabase.read_query\u001b[1;34m(self, sql, index_col, coerce_float, parse_dates, params, chunksize, dtype, dtype_backend)\u001b[0m\n\u001b[0;32m   2315\u001b[0m \u001b[39mdef\u001b[39;00m \u001b[39mread_query\u001b[39m(\n\u001b[0;32m   2316\u001b[0m     \u001b[39mself\u001b[39m,\n\u001b[0;32m   2317\u001b[0m     sql,\n\u001b[1;32m   (...)\u001b[0m\n\u001b[0;32m   2324\u001b[0m     dtype_backend: DtypeBackend \u001b[39m|\u001b[39m Literal[\u001b[39m\"\u001b[39m\u001b[39mnumpy\u001b[39m\u001b[39m\"\u001b[39m] \u001b[39m=\u001b[39m \u001b[39m\"\u001b[39m\u001b[39mnumpy\u001b[39m\u001b[39m\"\u001b[39m,\n\u001b[0;32m   2325\u001b[0m ) \u001b[39m-\u001b[39m\u001b[39m>\u001b[39m DataFrame \u001b[39m|\u001b[39m Iterator[DataFrame]:\n\u001b[1;32m-> 2326\u001b[0m     cursor \u001b[39m=\u001b[39m \u001b[39mself\u001b[39;49m\u001b[39m.\u001b[39;49mexecute(sql, params)\n\u001b[0;32m   2327\u001b[0m     columns \u001b[39m=\u001b[39m [col_desc[\u001b[39m0\u001b[39m] \u001b[39mfor\u001b[39;00m col_desc \u001b[39min\u001b[39;00m cursor\u001b[39m.\u001b[39mdescription]\n\u001b[0;32m   2329\u001b[0m     \u001b[39mif\u001b[39;00m chunksize \u001b[39mis\u001b[39;00m \u001b[39mnot\u001b[39;00m \u001b[39mNone\u001b[39;00m:\n",
      "File \u001b[1;32m~\\AppData\\Local\\Packages\\PythonSoftwareFoundation.Python.3.11_qbz5n2kfra8p0\\LocalCache\\local-packages\\Python311\\site-packages\\pandas\\io\\sql.py:2274\u001b[0m, in \u001b[0;36mSQLiteDatabase.execute\u001b[1;34m(self, sql, params)\u001b[0m\n\u001b[0;32m   2271\u001b[0m     \u001b[39mraise\u001b[39;00m ex \u001b[39mfrom\u001b[39;00m \u001b[39minner_exc\u001b[39;00m\n\u001b[0;32m   2273\u001b[0m ex \u001b[39m=\u001b[39m DatabaseError(\u001b[39mf\u001b[39m\u001b[39m\"\u001b[39m\u001b[39mExecution failed on sql \u001b[39m\u001b[39m'\u001b[39m\u001b[39m{\u001b[39;00msql\u001b[39m}\u001b[39;00m\u001b[39m'\u001b[39m\u001b[39m: \u001b[39m\u001b[39m{\u001b[39;00mexc\u001b[39m}\u001b[39;00m\u001b[39m\"\u001b[39m)\n\u001b[1;32m-> 2274\u001b[0m \u001b[39mraise\u001b[39;00m ex \u001b[39mfrom\u001b[39;00m \u001b[39mexc\u001b[39;00m\n",
      "\u001b[1;31mDatabaseError\u001b[0m: Execution failed on sql 'drop pma_museum;': near \"pma_museum\": syntax error"
     ]
    }
   ],
   "source": [
    "import sqlite3\n",
    "import pandas as pd\n",
    "\n",
    "# Connect to the SQLite database\n",
    "conn = sqlite3.connect('db.sqlite3')  # Replace 'your_database_name.db' with the actual name of your SQLite database\n",
    "\n",
    "# Query to select data from a table (replace 'your_table_name' with the actual table name)\n",
    "query = \"SELECT     name FROM     sqlite_schema WHERE     type ='table' AND     name NOT LIKE 'sqlite_%';\"\n",
    "query = \"drop pma_museum;\"\n",
    "#query = \"Drop Table pma_usage;\"\n",
    "\n",
    "# Read data into a DataFrame using pandas\n",
    "df = pd.read_sql_query(query, conn)\n",
    "\n",
    "# Close the database connection\n",
    "conn.close()\n"
   ]
  },
  {
   "cell_type": "code",
   "execution_count": 15,
   "metadata": {},
   "outputs": [
    {
     "name": "stdout",
     "output_type": "stream",
     "text": [
      "Data:\n",
      "                       property_name  property_id   meter_id  \\\n",
      "0    Charles Shipman Payson Building      3637747    6329048   \n",
      "1    Charles Shipman Payson Building      3637747    6329048   \n",
      "2    Charles Shipman Payson Building      3637747    6329048   \n",
      "3    Charles Shipman Payson Building      3637747    6329048   \n",
      "4    Charles Shipman Payson Building      3637747    6329048   \n",
      "..                               ...          ...        ...   \n",
      "935                      Clapp House      3637752  140921696   \n",
      "936                      Clapp House      3637752  140921696   \n",
      "937                      Clapp House      3637752  140921696   \n",
      "938                      Clapp House      3637752  140921696   \n",
      "939                      Clapp House      3637752  140921696   \n",
      "\n",
      "                   meter_name        meter_type  meter_consumption_id  \\\n",
      "0    PMA Main - ACC#146288-01    Potable Indoor             704764472   \n",
      "1    PMA Main - ACC#146288-01    Potable Indoor             704764475   \n",
      "2    PMA Main - ACC#146288-01    Potable Indoor             704764478   \n",
      "3    PMA Main - ACC#146288-01    Potable Indoor             704764481   \n",
      "4    PMA Main - ACC#146288-01    Potable Indoor             704764485   \n",
      "..                        ...               ...                   ...   \n",
      "935          Fuel Oil (No. 2)  Fuel Oil (No. 2)            6354900230   \n",
      "936          Fuel Oil (No. 2)  Fuel Oil (No. 2)            6354900231   \n",
      "937          Fuel Oil (No. 2)  Fuel Oil (No. 2)            6354900232   \n",
      "938          Fuel Oil (No. 2)  Fuel Oil (No. 2)            6354900233   \n",
      "939          Fuel Oil (No. 2)  Fuel Oil (No. 2)            6354900234   \n",
      "\n",
      "              start_date             end_date        delivery_date  quantity  \\\n",
      "0    2012-02-23 00:00:00  2012-03-22 00:00:00        Not Available      86.0   \n",
      "1    2012-03-23 00:00:00  2012-04-23 00:00:00        Not Available     105.0   \n",
      "2    2012-04-24 00:00:00  2012-05-23 00:00:00        Not Available      95.0   \n",
      "3    2012-05-24 00:00:00  2012-06-21 00:00:00        Not Available     203.0   \n",
      "4    2012-06-22 00:00:00  2012-07-25 00:00:00        Not Available     428.0   \n",
      "..                   ...                  ...                  ...       ...   \n",
      "935        Not Available        Not Available  2022-02-16 00:00:00     169.4   \n",
      "936        Not Available        Not Available  2022-03-02 00:00:00     160.1   \n",
      "937        Not Available        Not Available  2022-03-16 00:00:00     117.7   \n",
      "938        Not Available        Not Available  2022-04-14 00:00:00     134.3   \n",
      "939        Not Available        Not Available  2022-05-26 00:00:00      49.1   \n",
      "\n",
      "     ... estimation         demand    demand_cost   last_modified_date  \\\n",
      "0    ...         No  Not Available  Not Available  2015-11-28 00:00:00   \n",
      "1    ...         No  Not Available  Not Available  2015-11-28 00:00:00   \n",
      "2    ...         No  Not Available  Not Available  2015-11-28 00:00:00   \n",
      "3    ...         No  Not Available  Not Available  2015-11-28 00:00:00   \n",
      "4    ...         No  Not Available  Not Available  2015-11-28 00:00:00   \n",
      "..   ...        ...            ...            ...                  ...   \n",
      "935  ...         No  Not Available  Not Available  2022-09-15 00:00:00   \n",
      "936  ...         No  Not Available  Not Available  2022-09-15 00:00:00   \n",
      "937  ...         No  Not Available  Not Available  2022-09-15 00:00:00   \n",
      "938  ...         No  Not Available  Not Available  2022-09-15 00:00:00   \n",
      "939  ...         No  Not Available  Not Available  2022-09-15 00:00:00   \n",
      "\n",
      "    last_modified_by   age common_usage_units                 date  \\\n",
      "0                pma  41.0             8.6000  2012-02-23 00:00:00   \n",
      "1                pma  41.0            10.5000  2012-03-23 00:00:00   \n",
      "2                pma  41.0             9.5000  2012-04-24 00:00:00   \n",
      "3                pma  41.0            20.3000  2012-05-24 00:00:00   \n",
      "4                pma  41.0            42.8000  2012-06-22 00:00:00   \n",
      "..               ...   ...                ...                  ...   \n",
      "935              pma  41.0            14.0602        Not Available   \n",
      "936              pma  41.0            13.2883        Not Available   \n",
      "937              pma  41.0             9.7691        Not Available   \n",
      "938              pma  41.0            11.1469        Not Available   \n",
      "939              pma  41.0             4.0753        Not Available   \n",
      "\n",
      "                units usage_per_sq_feet  \n",
      "0    Btu(in Millions)           0.13760  \n",
      "1    Btu(in Millions)           0.16800  \n",
      "2    Btu(in Millions)           0.15200  \n",
      "3    Btu(in Millions)           0.32480  \n",
      "4    Btu(in Millions)           0.68480  \n",
      "..                ...               ...  \n",
      "935  Btu(in Millions)           7.03010  \n",
      "936  Btu(in Millions)           6.64415  \n",
      "937  Btu(in Millions)           4.88455  \n",
      "938  Btu(in Millions)           5.57345  \n",
      "939  Btu(in Millions)           2.03765  \n",
      "\n",
      "[940 rows x 22 columns]\n"
     ]
    }
   ],
   "source": [
    "print(\"Data:\")\n",
    "print(df)"
   ]
  }
 ],
 "metadata": {
  "kernelspec": {
   "display_name": "Python 3",
   "language": "python",
   "name": "python3"
  },
  "language_info": {
   "codemirror_mode": {
    "name": "ipython",
    "version": 3
   },
   "file_extension": ".py",
   "mimetype": "text/x-python",
   "name": "python",
   "nbconvert_exporter": "python",
   "pygments_lexer": "ipython3",
   "version": "3.11.6"
  }
 },
 "nbformat": 4,
 "nbformat_minor": 2
}
